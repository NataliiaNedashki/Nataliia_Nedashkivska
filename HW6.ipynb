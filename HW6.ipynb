{
 "cells": [
  {
   "cell_type": "code",
   "execution_count": 1,
   "metadata": {},
   "outputs": [],
   "source": [
    "import pandas as pd\n",
    "import os\n",
    "import requests\n",
    "\n",
    "file_name = 'movies.csv'\n",
    "document_url = 'https://gist.githubusercontent.com/tiangechen/b68782efa49a16edaf07dc2cdaa855ea/raw/0c794a9717f18b094eabab2cd6a6b9a226903577/movies.csv'  # in general could be inputted by user like 'url = input('Enter doc url')'\n",
    "\n",
    "if os.path.exists(file_name):\n",
    "    pass\n",
    "else:\n",
    "    response = requests.get(document_url)\n",
    "    if response.status_code == 200:\n",
    "        with open(file_name, 'wb') as f:\n",
    "            f.write(response.content)\n",
    "    else:\n",
    "        print(f'Failed to download the document. Status code: {response.status_code}')\n",
    "\n",
    "movies = pd.read_table('movies.csv', sep=\",\", encoding=\"utf8\", engine='python')\n",
    "\n",
    "movies.drop_duplicates(inplace = True)"
   ]
  },
  {
   "cell_type": "code",
   "execution_count": 2,
   "metadata": {},
   "outputs": [
    {
     "name": "stdout",
     "output_type": "stream",
     "text": [
      "                                 Film    Genre            Lead Studio  \\\n",
      "0          Zack and Miri Make a Porno  Romance  The Weinstein Company   \n",
      "1                     Youth in Revolt   Comedy  The Weinstein Company   \n",
      "2  You Will Meet a Tall Dark Stranger   Comedy            Independent   \n",
      "3                        When in Rome   Comedy                 Disney   \n",
      "4               What Happens in Vegas   Comedy                    Fox   \n",
      "\n",
      "   Audience score %  Profitability  Rotten Tomatoes % Worldwide Gross  Year  \n",
      "0                70       1.747542                 64         $41.94   2008  \n",
      "1                52       1.090000                 68         $19.62   2010  \n",
      "2                35       1.211818                 43         $26.66   2010  \n",
      "3                44       0.000000                 15         $43.04   2010  \n",
      "4                72       6.267647                 28        $219.37   2008  \n",
      "Film                  object\n",
      "Genre                 object\n",
      "Lead Studio           object\n",
      "Audience score %       int64\n",
      "Profitability        float64\n",
      "Rotten Tomatoes %      int64\n",
      "Worldwide Gross       object\n",
      "Year                   int64\n",
      "dtype: object\n",
      "       Audience score %  Profitability  Rotten Tomatoes %         Year\n",
      "count         77.000000      77.000000          77.000000    77.000000\n",
      "mean          63.727273       4.599483          46.701299  2009.077922\n",
      "std           13.657113       8.031990          26.095001     1.354974\n",
      "min           35.000000       0.000000           3.000000  2007.000000\n",
      "25%           52.000000       1.751351          26.000000  2008.000000\n",
      "50%           64.000000       2.642353          45.000000  2009.000000\n",
      "75%           76.000000       5.103117          64.000000  2010.000000\n",
      "max           89.000000      66.934000          96.000000  2011.000000\n",
      "<class 'pandas.core.frame.DataFrame'>\n",
      "RangeIndex: 77 entries, 0 to 76\n",
      "Data columns (total 8 columns):\n",
      " #   Column             Non-Null Count  Dtype  \n",
      "---  ------             --------------  -----  \n",
      " 0   Film               77 non-null     object \n",
      " 1   Genre              77 non-null     object \n",
      " 2   Lead Studio        77 non-null     object \n",
      " 3   Audience score %   77 non-null     int64  \n",
      " 4   Profitability      77 non-null     float64\n",
      " 5   Rotten Tomatoes %  77 non-null     int64  \n",
      " 6   Worldwide Gross    77 non-null     object \n",
      " 7   Year               77 non-null     int64  \n",
      "dtypes: float64(1), int64(3), object(4)\n",
      "memory usage: 4.9+ KB\n",
      "None\n"
     ]
    }
   ],
   "source": [
    "df_movie = pd.read_csv('movies.csv')\n",
    "print(df_movie.head()) \n",
    "print(df_movie.dtypes)\n",
    "print(df_movie.describe())\n",
    "print(df_movie.info())\n",
    "'''в таблиці є такі дані: назва фільму; жанр; студія, яка випустила фільм; оцінка глядачів у відсотках; чистий дохід; \n",
    "оцінка критиків у відсотках, загальні збори по фільму в доларах; рік випуску'''\n"
   ]
  },
  {
   "cell_type": "code",
   "execution_count": 9,
   "metadata": {},
   "outputs": [
    {
     "name": "stdout",
     "output_type": "stream",
     "text": [
      "Всього фільмів у наборі даних: 77\n"
     ]
    }
   ],
   "source": [
    "total_movies = df_movie.shape[0]\n",
    "print(f'Всього фільмів у наборі даних: {total_movies}')"
   ]
  },
  {
   "cell_type": "code",
   "execution_count": 11,
   "metadata": {},
   "outputs": [
    {
     "name": "stdout",
     "output_type": "stream",
     "text": [
      "      Film  Genre  Lead Studio  Audience score %  Profitability  \\\n",
      "Year                                                              \n",
      "2007    11     11           11                11             11   \n",
      "2008    20     20           20                20             20   \n",
      "2009    12     12           12                12             12   \n",
      "2010    20     20           20                20             20   \n",
      "2011    14     14           14                14             14   \n",
      "\n",
      "      Rotten Tomatoes %  Worldwide Gross  \n",
      "Year                                      \n",
      "2007                 11               11  \n",
      "2008                 20               20  \n",
      "2009                 12               12  \n",
      "2010                 20               20  \n",
      "2011                 14               14  \n"
     ]
    }
   ],
   "source": [
    "# 4. Скільки фільмів міститься у наборі даних за кожний рік?\n",
    "movies_by_year = df_movie.groupby('Year').count()\n",
    "print(movies_by_year)"
   ]
  },
  {
   "cell_type": "code",
   "execution_count": 14,
   "metadata": {},
   "outputs": [
    {
     "name": "stdout",
     "output_type": "stream",
     "text": [
      "         Film  Genre  Lead Studio  Audience score %  Profitability  \\\n",
      "68  Fireproof  Drama  Independent                51         66.934   \n",
      "\n",
      "    Rotten Tomatoes % Worldwide Gross  Year  \n",
      "68                 40         $33.47   2008  \n",
      "                  Film    Genre  Lead Studio  Audience score %  Profitability  \\\n",
      "3         When in Rome   Comedy       Disney                44            0.0   \n",
      "33  Our Family Wedding   Comedy  Independent                49            0.0   \n",
      "57           Jane Eyre  Romance    Universal                77            0.0   \n",
      "\n",
      "    Rotten Tomatoes % Worldwide Gross  Year  \n",
      "3                  15         $43.04   2010  \n",
      "33                 14         $21.37   2010  \n",
      "57                 85         $30.15   2011  \n"
     ]
    }
   ],
   "source": [
    "# 5. Покажіть детальну інформацію про найменш і найприбутковіші фільми в наборі \n",
    "most_profitable = df_movie['Profitability'].max()\n",
    "min_profitable = df_movie['Profitability'].min()\n",
    "print(df_movie.loc[df_movie['Profitability'].isin([most_profitable])]) \n",
    "print(df_movie.loc[df_movie['Profitability'].isin([min_profitable])])"
   ]
  },
  {
   "cell_type": "code",
   "execution_count": 16,
   "metadata": {},
   "outputs": [
    {
     "data": {
      "text/html": [
       "<div>\n",
       "<style scoped>\n",
       "    .dataframe tbody tr th:only-of-type {\n",
       "        vertical-align: middle;\n",
       "    }\n",
       "\n",
       "    .dataframe tbody tr th {\n",
       "        vertical-align: top;\n",
       "    }\n",
       "\n",
       "    .dataframe thead th {\n",
       "        text-align: right;\n",
       "    }\n",
       "</style>\n",
       "<table border=\"1\" class=\"dataframe\">\n",
       "  <thead>\n",
       "    <tr style=\"text-align: right;\">\n",
       "      <th></th>\n",
       "      <th>Film</th>\n",
       "      <th>Lead Studio</th>\n",
       "      <th>Audience score %</th>\n",
       "      <th>Profitability</th>\n",
       "      <th>Rotten Tomatoes %</th>\n",
       "      <th>Worldwide Gross</th>\n",
       "      <th>Year</th>\n",
       "    </tr>\n",
       "    <tr>\n",
       "      <th>Genre</th>\n",
       "      <th></th>\n",
       "      <th></th>\n",
       "      <th></th>\n",
       "      <th></th>\n",
       "      <th></th>\n",
       "      <th></th>\n",
       "      <th></th>\n",
       "    </tr>\n",
       "  </thead>\n",
       "  <tbody>\n",
       "    <tr>\n",
       "      <th>Action</th>\n",
       "      <td>1</td>\n",
       "      <td>1</td>\n",
       "      <td>1</td>\n",
       "      <td>1</td>\n",
       "      <td>1</td>\n",
       "      <td>1</td>\n",
       "      <td>1</td>\n",
       "    </tr>\n",
       "    <tr>\n",
       "      <th>Animation</th>\n",
       "      <td>4</td>\n",
       "      <td>4</td>\n",
       "      <td>4</td>\n",
       "      <td>4</td>\n",
       "      <td>4</td>\n",
       "      <td>4</td>\n",
       "      <td>4</td>\n",
       "    </tr>\n",
       "    <tr>\n",
       "      <th>Comedy</th>\n",
       "      <td>43</td>\n",
       "      <td>43</td>\n",
       "      <td>43</td>\n",
       "      <td>43</td>\n",
       "      <td>43</td>\n",
       "      <td>43</td>\n",
       "      <td>43</td>\n",
       "    </tr>\n",
       "    <tr>\n",
       "      <th>Drama</th>\n",
       "      <td>13</td>\n",
       "      <td>13</td>\n",
       "      <td>13</td>\n",
       "      <td>13</td>\n",
       "      <td>13</td>\n",
       "      <td>13</td>\n",
       "      <td>13</td>\n",
       "    </tr>\n",
       "    <tr>\n",
       "      <th>Fantasy</th>\n",
       "      <td>1</td>\n",
       "      <td>1</td>\n",
       "      <td>1</td>\n",
       "      <td>1</td>\n",
       "      <td>1</td>\n",
       "      <td>1</td>\n",
       "      <td>1</td>\n",
       "    </tr>\n",
       "    <tr>\n",
       "      <th>Romance</th>\n",
       "      <td>15</td>\n",
       "      <td>15</td>\n",
       "      <td>15</td>\n",
       "      <td>15</td>\n",
       "      <td>15</td>\n",
       "      <td>15</td>\n",
       "      <td>15</td>\n",
       "    </tr>\n",
       "  </tbody>\n",
       "</table>\n",
       "</div>"
      ],
      "text/plain": [
       "           Film  Lead Studio  Audience score %  Profitability  \\\n",
       "Genre                                                           \n",
       "Action        1            1                 1              1   \n",
       "Animation     4            4                 4              4   \n",
       "Comedy       43           43                43             43   \n",
       "Drama        13           13                13             13   \n",
       "Fantasy       1            1                 1              1   \n",
       "Romance      15           15                15             15   \n",
       "\n",
       "           Rotten Tomatoes %  Worldwide Gross  Year  \n",
       "Genre                                                \n",
       "Action                     1                1     1  \n",
       "Animation                  4                4     4  \n",
       "Comedy                    43               43    43  \n",
       "Drama                     13               13    13  \n",
       "Fantasy                    1                1     1  \n",
       "Romance                   15               15    15  "
      ]
     },
     "execution_count": 16,
     "metadata": {},
     "output_type": "execute_result"
    }
   ],
   "source": [
    "# 6\n",
    "df_movie = df_movie.replace({'Genre':{'Comdy':'Comedy', 'Romence':'Romance', 'romance':'Romance',\n",
    "'comedy':'Comedy'}})\n",
    "\n",
    "df_movie.groupby('Genre').count()\n"
   ]
  },
  {
   "cell_type": "code",
   "execution_count": 25,
   "metadata": {},
   "outputs": [],
   "source": [
    "# 7 Збережіть (у новий файл CSV) 10 найкращих комедій за кількістю глядачів; покажіть лише назву фільму, рік та студію\n",
    "df = df_movie.sort_values('Audience score %', ascending = False)\n",
    "df[:10][['Film', 'Year', 'Lead Studio', 'Audience score %']].to_csv('top10_comedy.csv', index=False)\n"
   ]
  },
  {
   "cell_type": "code",
   "execution_count": null,
   "metadata": {},
   "outputs": [],
   "source": [
    "# pip install MySQL\n",
    "# pip install lxml"
   ]
  }
 ],
 "metadata": {
  "kernelspec": {
   "display_name": "Python 3",
   "language": "python",
   "name": "python3"
  },
  "language_info": {
   "codemirror_mode": {
    "name": "ipython",
    "version": 3
   },
   "file_extension": ".py",
   "mimetype": "text/x-python",
   "name": "python",
   "nbconvert_exporter": "python",
   "pygments_lexer": "ipython3",
   "version": "3.11.5"
  }
 },
 "nbformat": 4,
 "nbformat_minor": 2
}
