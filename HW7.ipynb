{
 "cells": [
  {
   "cell_type": "code",
   "execution_count": 16,
   "metadata": {},
   "outputs": [
    {
     "name": "stdout",
     "output_type": "stream",
     "text": [
      "                         name sex event   equipment   age age_class  \\\n",
      "36622             E. Richards   F   SBD  Single-ply   NaN       NaN   \n",
      "6357   Anastasiya Potrashkova   F   SBD         Raw  18.5     18-19   \n",
      "9314            Kendra Miller   F   SBD  Single-ply  15.0     13-15   \n",
      "11883          Bernhard Boyer   M   SBD  Single-ply  41.5     40-44   \n",
      "20993             Rex Parsons   M   SBD         Raw  21.5     20-23   \n",
      "\n",
      "          division  bodyweight_kg weight_class_kg  best3squat_kg  \\\n",
      "36622      Juniors          51.55              52           95.0   \n",
      "6357       Juniors          62.01              63          127.5   \n",
      "9314   Sub-Juniors          51.50              52          145.0   \n",
      "11883    Masters 1         100.00             100          255.0   \n",
      "20993         Open         104.76             105          232.5   \n",
      "\n",
      "       best3bench_kg  best3deadlift_kg place        date federation  \\\n",
      "36622           47.5             105.0    11  1992-09-08        IPF   \n",
      "6357            82.5             150.0     5  2015-06-05        IPF   \n",
      "9314            72.5             142.5     1  2007-09-03        IPF   \n",
      "11883          152.5             307.5     6  1988-07-28        IPF   \n",
      "20993          182.5             255.0     4  2016-07-11        IPF   \n",
      "\n",
      "                                               meet_name  \n",
      "36622           World Juniors Powerlifting Championships  \n",
      "6357            World Classic Powerlifting Championships  \n",
      "9314   World Sub-Juniors & Juniors Powerlifting Champ...  \n",
      "11883           World Masters Powerlifting Championships  \n",
      "20993                  World University Powerlifting Cup  \n"
     ]
    }
   ],
   "source": [
    "import pandas as pd\n",
    "import os\n",
    "import requests\n",
    "\n",
    "file_name = 'ipf_lifts.csv'\n",
    "document_url = 'https://raw.githubusercontent.com/rfordatascience/tidytuesday/master/data/2019/2019-10-08/ipf_lifts.csv'  \n",
    "\n",
    "if os.path.exists(file_name):\n",
    "    pass\n",
    "else:\n",
    "    response = requests.get(document_url)\n",
    "    if response.status_code == 200:\n",
    "        with open(file_name, 'wb') as f:\n",
    "            f.write(response.content)\n",
    "    else:\n",
    "        print(f'Failed to download the document. Status code: {response.status_code}')\n",
    "\n",
    "lifts = pd.read_table('ipf_lifts.csv', sep=\",\", encoding=\"utf8\", engine='python')\n",
    "\n",
    "df_lifts = pd.read_csv('ipf_lifts.csv')\n",
    "print(df_lifts.sample(n = 5)) "
   ]
  },
  {
   "cell_type": "code",
   "execution_count": 21,
   "metadata": {},
   "outputs": [],
   "source": [
    "# 2. Знайдіть рекорди кожної статі та кожного підрозділу в кожній із 3 вправ (жим лежачи, присідання та станова тяга).\n",
    "# жим лежачи\n",
    "bench_press_records = df_lifts.groupby(['sex' , 'division']).agg({'best3bench_kg': 'max'})\n",
    "print(bench_press_records)\n",
    "\n",
    "# присідання\n",
    "squats = df_lifts.groupby(['sex' , 'division']).agg({'best3squat_kg': 'max'})\n",
    "print(squats)\n",
    "\n",
    "# станова тяга\n",
    "dedlift = df_lifts.groupby(['sex' , 'division']).agg({'best3deadlift_kg': 'max'})\n",
    "print(dedlift)\n"
   ]
  },
  {
   "cell_type": "code",
   "execution_count": 32,
   "metadata": {},
   "outputs": [
    {
     "name": "stdout",
     "output_type": "stream",
     "text": [
      "                           winners_number\n",
      "name                                     \n",
      "A Ernandos-Ortega                       1\n",
      "A. Raface                               1\n",
      "Aarre Käpylä                            2\n",
      "Ab Wolders                              3\n",
      "Abdulkarim Karaman                      4\n",
      "...                                   ...\n",
      "Éva Makrai                              2\n",
      "Øyvind Bjørnsen                         1\n",
      "Þórunn Brynja Jónasdóttir               1\n",
      "Štefan Koľšovský                        7\n",
      "Štěpánka Židová                         1\n",
      "\n",
      "[3328 rows x 1 columns]\n",
      "                    name sex event   equipment   age age_class division  \\\n",
      "0       Hiroyuki Isagawa   M   SBD  Single-ply   NaN       NaN      NaN   \n",
      "1        David Mannering   M   SBD  Single-ply  24.0     24-34      NaN   \n",
      "2          Eddy Pengelly   M   SBD  Single-ply  35.5     35-39      NaN   \n",
      "3       Nanda Talambanua   M   SBD  Single-ply  19.5     20-23      NaN   \n",
      "4        Göran Henrysson   M   SBD  Single-ply   NaN       NaN      NaN   \n",
      "...                  ...  ..   ...         ...   ...       ...      ...   \n",
      "41147  Chien-Hsiung Chao   M     B  Single-ply   NaN       NaN     Open   \n",
      "41148     Oleg Gordynetz   M     B  Single-ply   NaN       NaN     Open   \n",
      "41149      Clive Lambert   M     B  Single-ply  31.5     24-34     Open   \n",
      "41150        Peter Brath   M     B  Single-ply  21.5     20-23     Open   \n",
      "41151   Valery Sidorenko   M     B  Single-ply  38.5     35-39     Open   \n",
      "\n",
      "       bodyweight_kg weight_class_kg  best3squat_kg  best3bench_kg  \\\n",
      "0               67.5            67.5          205.0          140.0   \n",
      "1               67.5            67.5          225.0          132.5   \n",
      "2               67.5            67.5          245.0          157.5   \n",
      "3               67.5            67.5          195.0          110.0   \n",
      "4               67.5            67.5          240.0          140.0   \n",
      "...              ...             ...            ...            ...   \n",
      "41147          126.5            125+            NaN          202.5   \n",
      "41148          137.5            125+            NaN          202.5   \n",
      "41149          142.2            125+            NaN          202.5   \n",
      "41150          125.5            125+            NaN          180.0   \n",
      "41151          142.0            125+            NaN            NaN   \n",
      "\n",
      "       best3deadlift_kg  place        date federation  \\\n",
      "0                 225.0    1.0  1985-08-03        IPF   \n",
      "1                 235.0    2.0  1985-08-03        IPF   \n",
      "2                 270.0    3.0  1985-08-03        IPF   \n",
      "3                 240.0    4.0  1985-08-03        IPF   \n",
      "4                 215.0    5.0  1985-08-03        IPF   \n",
      "...                 ...    ...         ...        ...   \n",
      "41147               NaN   12.0  1995-06-25        IPF   \n",
      "41148               NaN   13.0  1995-06-25        IPF   \n",
      "41149               NaN   14.0  1995-06-25        IPF   \n",
      "41150               NaN   15.0  1995-06-25        IPF   \n",
      "41151               NaN    NaN  1995-06-25        IPF   \n",
      "\n",
      "                             meet_name  winners_number  \n",
      "0                          World Games            21.0  \n",
      "1                          World Games             NaN  \n",
      "2                          World Games             4.0  \n",
      "3                          World Games             4.0  \n",
      "4                          World Games             4.0  \n",
      "...                                ...             ...  \n",
      "41147  World Bench Press Championships             NaN  \n",
      "41148  World Bench Press Championships             NaN  \n",
      "41149  World Bench Press Championships             NaN  \n",
      "41150  World Bench Press Championships             NaN  \n",
      "41151  World Bench Press Championships             NaN  \n",
      "\n",
      "[41152 rows x 17 columns]\n"
     ]
    }
   ],
   "source": [
    "# 3. Порахуйте кількість перемог кожного учасника, беручи за перемогу 1-е місце. Збережіть результати у вторинному DataFrame\n",
    "df_lifts['place'] = pd.to_numeric(df_lifts['place'], errors='coerce')\n",
    "\n",
    "winners = df_lifts[df_lifts['place'] == 1].groupby('name').agg(winners_number=('place', 'count'))\n",
    "print (winners)\n",
    "\n",
    "df = df_lifts.merge(winners, how='left', on='name')\n",
    "print(df)\n"
   ]
  },
  {
   "cell_type": "code",
   "execution_count": 33,
   "metadata": {},
   "outputs": [
    {
     "name": "stdout",
     "output_type": "stream",
     "text": [
      "division    weight_class_kg  sex\n",
      "Heavy       100              M       9.0\n",
      "            105              M      11.0\n",
      "            67.5+            F      22.0\n",
      "            72               F      17.0\n",
      "            75               F      17.0\n",
      "                                    ... \n",
      "Super       75+              F      22.0\n",
      "SuperHeavy  120              M       6.0\n",
      "            120+             M       8.0\n",
      "            84               F       4.0\n",
      "            84+              F      22.0\n",
      "Name: winners_number, Length: 268, dtype: float64\n"
     ]
    }
   ],
   "source": [
    "'''4. Використайте DataFrame з вправи 3, щоб показати для кожної комбінації \n",
    "підрозділу та статі, учасника з найбільшою кількістю перемог серед учасників, які \n",
    "будь-коли брали участь у цьому дивізіоні'''\n",
    "division_best = df.groupby(['division', 'weight_class_kg', 'sex']).winners_number.max()\n",
    "print(division_best)"
   ]
  }
 ],
 "metadata": {
  "kernelspec": {
   "display_name": "Python 3",
   "language": "python",
   "name": "python3"
  },
  "language_info": {
   "codemirror_mode": {
    "name": "ipython",
    "version": 3
   },
   "file_extension": ".py",
   "mimetype": "text/x-python",
   "name": "python",
   "nbconvert_exporter": "python",
   "pygments_lexer": "ipython3",
   "version": "3.11.5"
  }
 },
 "nbformat": 4,
 "nbformat_minor": 2
}
