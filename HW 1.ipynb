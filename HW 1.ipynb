{
 "cells": [
  {
   "cell_type": "code",
   "execution_count": 6,
   "metadata": {},
   "outputs": [
    {
     "name": "stdout",
     "output_type": "stream",
     "text": [
      "Nataly your salary is 324.0 thousands per year\n"
     ]
    }
   ],
   "source": [
    "''' 1.Запросіть у користувача ім'я та місячну зарплату в доларах та виведіть їхню річну зарплату в тисячах доларів '''\n",
    "name = input('Enter your name: ').strip()\n",
    "salary = int(input('Enter your monthly salary: ').strip())\n",
    "year_salary = (12 * salary) / 1000\n",
    "print(name + ' your salary is ' + str(year_salary) + ' thousands per year')"
   ]
  },
  {
   "cell_type": "code",
   "execution_count": 12,
   "metadata": {},
   "outputs": [
    {
     "name": "stdout",
     "output_type": "stream",
     "text": [
      "True\n"
     ]
    }
   ],
   "source": [
    "# 2. Запросіть ціле число і виведіть True, якщо це парне число діапазоні від 100 до 999, інакше - «False».\n",
    "number = int(input('Enter integer: ').strip())\n",
    "if number % 2 == 0 and number in range(100, 1000):\n",
    "    print(\"True\")\n",
    "else:\n",
    "    print('False')"
   ]
  },
  {
   "cell_type": "code",
   "execution_count": 12,
   "metadata": {},
   "outputs": [
    {
     "name": "stdout",
     "output_type": "stream",
     "text": [
      "999\n"
     ]
    }
   ],
   "source": [
    "'''3. Як вхідні дані візьмемо ціле число; Це \n",
    "число від 101 до 999, а його остання цифра не дорівнює нулю.\n",
    "Виведіть число, що складається з чисел першого у зворотньому порядку.'''\n",
    "number = int(input('Enter integer: ').strip())\n",
    "if 100 <= number <= 999 and number % 10 == 0:\n",
    "    print('You entered wrong number')\n",
    "else:\n",
    "    number = str(number)\n",
    "    print(number[::-1])"
   ]
  },
  {
   "cell_type": "code",
   "execution_count": 15,
   "metadata": {},
   "outputs": [
    {
     "name": "stdout",
     "output_type": "stream",
     "text": [
      "8  \n",
      "2  \n",
      "15  \n",
      "1.6666666666666667  \n",
      "2 \n",
      "True\n"
     ]
    }
   ],
   "source": [
    "'''4. Запитайте два цілих числа та виведіть:\n",
    "a. Їхню суму\n",
    "b. Їхня різниця\n",
    "c. результат множення\n",
    "d. Результат поділу першого на друге\n",
    "e. Залишок від поділу першого на друге\n",
    "f. True, якщо перше число більше або дорівнює другому, інакше False'''\n",
    "number1 = int(input('Enter integer: ').strip())\n",
    "number2 = int(input('Enter integer: ').strip())\n",
    "sum = number1 + number2\n",
    "dif = number1 - number2\n",
    "mult = number1 * number2\n",
    "div = number1 / number2\n",
    "rem = number1 % number2\n",
    "result = 'True' if number1 >= number2 else 'False'\n",
    "print(f'{sum}  \\n{dif}  \\n{mult}  \\n{div}  \\n{rem} \\n{result}')"
   ]
  }
 ],
 "metadata": {
  "kernelspec": {
   "display_name": "Python 3",
   "language": "python",
   "name": "python3"
  },
  "language_info": {
   "codemirror_mode": {
    "name": "ipython",
    "version": 3
   },
   "file_extension": ".py",
   "mimetype": "text/x-python",
   "name": "python",
   "nbconvert_exporter": "python",
   "pygments_lexer": "ipython3",
   "version": "3.11.5"
  }
 },
 "nbformat": 4,
 "nbformat_minor": 2
}
